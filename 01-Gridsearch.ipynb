{
 "cells": [
  {
   "cell_type": "code",
   "execution_count": null,
   "id": "f9777f2e",
   "metadata": {},
   "outputs": [],
   "source": [
    "import pandas as pd\n",
    "import seaborn as sns\n",
    "from glob import glob\n",
    "import matplotlib.pyplot as plt\n",
    "import numpy as np\n",
    "from scipy import stats\n",
    "from mne.stats import fdr_correction\n",
    "from tqdm import tqdm\n",
    "from sklearn.ensemble import RandomForestClassifier\n",
    "import random \n",
    "import subprocess\n",
    "import matplotlib as mpl\n",
    "from matplotlib import animation\n",
    "\n",
    "from warnings import simplefilter\n",
    "simplefilter(action='ignore', category=FutureWarning)\n",
    "\n",
    "import warnings\n",
    "warnings.filterwarnings(\"ignore\")\n",
    "\n",
    "sns.set(font_scale=1.2)\n",
    "sns.set_style('ticks')\n",
    "\n",
    "get_ipython().run_line_magic('config', \"InlineBackend.figure_format = 'svg'\")\n",
    "plt.rcParams['figure.dpi'] = 200\n",
    "plt.rcParams['svg.fonttype'] = 'none'"
   ]
  },
  {
   "cell_type": "code",
   "execution_count": null,
   "id": "dfa7e7d2",
   "metadata": {},
   "outputs": [],
   "source": [
    "# samples metadata\n",
    "filtered_reads_samples_filterdis  = pd.read_pickle('.../metadata.pkl')"
   ]
  },
  {
   "cell_type": "code",
   "execution_count": null,
   "id": "bb156b0f",
   "metadata": {},
   "outputs": [],
   "source": [
    "# use human/bacterial protein abundance profile to run RF\n",
    "all_uniref_human_profile = glob('hp_abun/*human_cluster_filter.pkl')\n",
    "all_uniref_human_profile_df = [pd.read_pickle(x) for x in all_uniref_human_profile]\n",
    "\n",
    "# all study names\n",
    "study_name = pd.DataFrame(all_uniref_human_profile)[0].str.replace('hp_abun/','').str.replace('_human_cluster_filter.pkl','').tolist()"
   ]
  },
  {
   "cell_type": "code",
   "execution_count": null,
   "id": "3ff31ace",
   "metadata": {},
   "outputs": [],
   "source": [
    "# attach \"labels\" to the metagenomic samples \n",
    "def return_all_factorized():\n",
    "    all_df_study = []\n",
    "    for i in range(len(study_name)):\n",
    "        temp = all_uniref_human_profile_df[i].reset_index().merge(filtered_reads_samples_filterdis[filtered_reads_samples_filterdis.study_name == study_name[i]][['sample_id','study_condition']].dropna(), right_on = 'sample_id', left_on = 'index').drop('index', axis = 1).rename(columns = {'study_condition':'y'})\n",
    "        temp.index = temp.sample_id\n",
    "        temp.drop('sample_id', axis = 1, inplace = True)\n",
    "        temp.loc[temp['y']!='control', 'y'] = 1\n",
    "        temp.loc[temp['y']=='control', 'y'] = 0\n",
    "        temp['y'] = temp['y'].astype('int')\n",
    "        temp = temp.reset_index(drop = True)\n",
    "        all_df_study.append(temp)\n",
    "    return all_df_study\n",
    "\n",
    "all_uniref_human_profile_df_fac = return_all_factorized()"
   ]
  },
  {
   "cell_type": "code",
   "execution_count": null,
   "id": "e2f71a2a",
   "metadata": {},
   "outputs": [],
   "source": [
    "plt.rcParams.update({'figure.max_open_warning': 0})\n",
    "from sklearn.model_selection import StratifiedKFold\n",
    "from sklearn.metrics import roc_curve, precision_recall_curve, auc, average_precision_score, precision_score, recall_score, f1_score, roc_auc_score\n",
    "from scipy import interp\n",
    "from sklearn.model_selection import LeaveOneOut\n",
    "from sklearn.model_selection import GridSearchCV\n",
    "\n",
    "def run_rf_gridsearch(data, study_name):\n",
    "\n",
    "    X = data.iloc[:,:-1]\n",
    "    y = data['y']\n",
    "        \n",
    "    rfc = RandomForestClassifier(class_weight = 'balanced')\n",
    "    \n",
    "    # Number of trees in random forest\n",
    "    n_estimators = [int(x) for x in np.linspace(start = 100, stop = 5000, num = 8)]\n",
    "    # Number of features to consider at every split\n",
    "    max_features = ['auto']\n",
    "    # Maximum number of levels in tree\n",
    "    max_depth = [int(x) for x in np.linspace(10, 200, num = 5)]\n",
    "    max_depth.append(None)\n",
    "    # Minimum number of samples required to split a node\n",
    "    min_samples_split = [2, 5, 10]\n",
    "    # Minimum number of samples required at each leaf node\n",
    "    min_samples_leaf = [1, 2, 4]\n",
    "    # Method of selecting samples for training each tree\n",
    "    bootstrap = [True]\n",
    "    \n",
    "    # Create the random grid\n",
    "    random_grid = {'n_estimators': n_estimators,\n",
    "                   'max_features': max_features,\n",
    "                   'max_depth': max_depth,\n",
    "                   'min_samples_split': min_samples_split,\n",
    "                   'min_samples_leaf': min_samples_leaf,\n",
    "                   'bootstrap': bootstrap}\n",
    "\n",
    "    grid_search = GridSearchCV(rfc, random_grid, cv = 5, verbose=3, n_jobs = 30)\n",
    "    grid_search.fit(X, y)\n",
    "    \n",
    "    return grid_search.best_params_"
   ]
  },
  {
   "cell_type": "code",
   "execution_count": null,
   "id": "48aca6e2",
   "metadata": {},
   "outputs": [],
   "source": [
    "# grid search\n",
    "best_params_all = []\n",
    "for i in range(len(study_name)):\n",
    "    best_params_all.append(run_rf_gridsearch(all_uniref_human_profile_df_fac[i],study_name[i]))"
   ]
  },
  {
   "cell_type": "code",
   "execution_count": null,
   "id": "619ca7f4",
   "metadata": {},
   "outputs": [],
   "source": [
    "# save \n",
    "best_para = pd.DataFrame(best_params_all)\n",
    "best_para['study_name'] = study_name\n",
    "best_para.to_pickle('RF_final/best_hyperparam.pkl')"
   ]
  }
 ],
 "metadata": {
  "kernelspec": {
   "display_name": "cbsubrito3",
   "language": "python",
   "name": "cbsubrito3"
  },
  "language_info": {
   "codemirror_mode": {
    "name": "ipython",
    "version": 3
   },
   "file_extension": ".py",
   "mimetype": "text/x-python",
   "name": "python",
   "nbconvert_exporter": "python",
   "pygments_lexer": "ipython3",
   "version": "3.9.1"
  }
 },
 "nbformat": 4,
 "nbformat_minor": 5
}
